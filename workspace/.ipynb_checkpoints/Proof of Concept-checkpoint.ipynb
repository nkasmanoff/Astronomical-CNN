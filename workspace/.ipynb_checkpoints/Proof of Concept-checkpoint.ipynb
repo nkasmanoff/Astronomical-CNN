{
 "cells": [
  {
   "cell_type": "markdown",
   "metadata": {},
   "source": [
    "# I am going to download a bunch of images of galaxies, and see if I can train the CNN on them and then correctly identify one. "
   ]
  },
  {
   "cell_type": "code",
   "execution_count": 1,
   "metadata": {
    "collapsed": true
   },
   "outputs": [],
   "source": [
    "%matplotlib inline"
   ]
  },
  {
   "cell_type": "code",
   "execution_count": 2,
   "metadata": {},
   "outputs": [
    {
     "name": "stderr",
     "output_type": "stream",
     "text": [
      "/Users/noahkasmanoff/anaconda/lib/python3.6/site-packages/h5py/__init__.py:34: FutureWarning: Conversion of the second argument of issubdtype from `float` to `np.floating` is deprecated. In future, it will be treated as `np.float64 == np.dtype(float).type`.\n",
      "  from ._conv import register_converters as _register_converters\n",
      "Using TensorFlow backend.\n"
     ]
    }
   ],
   "source": [
    "import os\n",
    "import numpy as np\n",
    "from keras.models import Sequential\n",
    "from keras.layers import Activation, Dropout, Flatten, Dense\n",
    "from keras.preprocessing.image import ImageDataGenerator\n",
    "from keras.layers import Convolution2D, MaxPooling2D, ZeroPadding2D\n",
    "from keras import optimizers\n",
    "import cv2\n",
    "import matplotlib.pyplot as plt"
   ]
  },
  {
   "cell_type": "code",
   "execution_count": 3,
   "metadata": {
    "collapsed": true
   },
   "outputs": [],
   "source": [
    "def resize_with_pad(img, img_size):\n",
    "    height, width, _ = img.shape\n",
    "    ratio = img_size / max(height, width)\n",
    "   # print(ratio)\n",
    "    if ratio < 1:\n",
    "        img = cv2.resize(img, (int(ratio * width), int(ratio * height)))\n",
    "    padding = ((img_size - img.shape[0], 0), (img_size - img.shape[1],0), (0,0))\n",
    "\n",
    "    return np.pad(img, padding, 'constant')\n"
   ]
  },
  {
   "cell_type": "code",
   "execution_count": 4,
   "metadata": {
    "collapsed": true
   },
   "outputs": [],
   "source": [
    "\n",
    "train_data_dir = '/Users/noahkasmanoff/whatif_LSST/data/galaxies/'\n",
    "# = 'data/validation'"
   ]
  },
  {
   "cell_type": "code",
   "execution_count": 5,
   "metadata": {
    "collapsed": true
   },
   "outputs": [],
   "source": [
    "X_galaxies = []\n",
    "y_galaxies = []\n",
    "for file in os.listdir(train_data_dir):\n",
    "\n",
    "    img = cv2.imread(train_data_dir + file)\n",
    "   # print(np.shape(img))\n",
    "\n",
    "    img = resize_with_pad(img,360)\n",
    "    img = cv2.cvtColor(img, cv2.COLOR_BGR2GRAY)\n",
    "       # img = normalize(img,norm='l1',axis=1)\n",
    "    X_galaxies.append((img))\n",
    "\n",
    "    y_galaxies.append([0,1])\n",
    "X_dogs = []\n",
    "y_dogs = []\n",
    "for file in os.listdir('/Users/noahkasmanoff/Desktop/dogs _ Google Search/'):\n",
    "    img = cv2.imread('/Users/noahkasmanoff/Desktop/dogs _ Google Search/' + file)\n",
    "  #  print(np.shape(img))\n",
    "    img = resize_with_pad(img,360)\n",
    "    img = cv2.cvtColor(img, cv2.COLOR_BGR2GRAY)\n",
    "    X_dogs.append(img)\n",
    "    y_dogs.append([1,0])"
   ]
  },
  {
   "cell_type": "code",
   "execution_count": null,
   "metadata": {
    "collapsed": true
   },
   "outputs": [],
   "source": []
  },
  {
   "cell_type": "code",
   "execution_count": 6,
   "metadata": {},
   "outputs": [
    {
     "data": {
      "text/plain": [
       "(71, 360, 360)"
      ]
     },
     "execution_count": 6,
     "metadata": {},
     "output_type": "execute_result"
    }
   ],
   "source": [
    "np.shape(X_dogs)"
   ]
  },
  {
   "cell_type": "code",
   "execution_count": 7,
   "metadata": {
    "collapsed": true
   },
   "outputs": [],
   "source": [
    "X = np.concatenate((X_galaxies,X_dogs))\n",
    "y = np.concatenate((y_galaxies,y_dogs))\n"
   ]
  },
  {
   "cell_type": "code",
   "execution_count": 8,
   "metadata": {
    "collapsed": true
   },
   "outputs": [],
   "source": [
    "X = np.array((X)) \n",
    "X = X.reshape((111,360*360))\n"
   ]
  },
  {
   "cell_type": "code",
   "execution_count": 11,
   "metadata": {},
   "outputs": [
    {
     "data": {
      "text/plain": [
       "(111, 360, 360, 1)"
      ]
     },
     "execution_count": 11,
     "metadata": {},
     "output_type": "execute_result"
    }
   ],
   "source": [
    "np.shape(Xtrain)"
   ]
  },
  {
   "cell_type": "code",
   "execution_count": 12,
   "metadata": {
    "collapsed": true
   },
   "outputs": [],
   "source": [
    "Xtrain = X.reshape(X.shape[0],360,360,1).astype('float32')\n",
    "Ytrain = y"
   ]
  },
  {
   "cell_type": "markdown",
   "metadata": {},
   "source": [
    "Now to construct a CNN. "
   ]
  },
  {
   "cell_type": "code",
   "execution_count": 18,
   "metadata": {},
   "outputs": [
    {
     "name": "stderr",
     "output_type": "stream",
     "text": [
      "/Users/noahkasmanoff/anaconda/lib/python3.6/site-packages/ipykernel/__main__.py:2: UserWarning: Update your `Conv2D` call to the Keras 2 API: `Conv2D(32, (3, 3), input_shape=(360, 360,...)`\n",
      "  from ipykernel import kernelapp as app\n",
      "/Users/noahkasmanoff/anaconda/lib/python3.6/site-packages/ipykernel/__main__.py:6: UserWarning: Update your `Conv2D` call to the Keras 2 API: `Conv2D(32, (3, 3))`\n",
      "/Users/noahkasmanoff/anaconda/lib/python3.6/site-packages/ipykernel/__main__.py:10: UserWarning: Update your `Conv2D` call to the Keras 2 API: `Conv2D(64, (3, 3))`\n"
     ]
    }
   ],
   "source": [
    "model = Sequential()\n",
    "model.add(Convolution2D(32, 3, 3, input_shape=(360,360,1)))\n",
    "model.add(Activation('relu'))\n",
    "model.add(MaxPooling2D(pool_size=(2, 2)))\n",
    "\n",
    "model.add(Convolution2D(32, 3, 3))\n",
    "model.add(Activation('relu'))\n",
    "model.add(MaxPooling2D(pool_size=(2, 2)))\n",
    "\n",
    "model.add(Convolution2D(64, 3, 3))\n",
    "model.add(Activation('relu'))\n",
    "model.add(MaxPooling2D(pool_size=(2, 2)))\n",
    "\n",
    "model.add(Flatten())\n",
    "model.add(Dense(64))\n",
    "model.add(Activation('relu'))\n",
    "model.add(Dropout(0.5))\n",
    "model.add(Dense(2))\n",
    "model.add(Activation('softmax'))"
   ]
  },
  {
   "cell_type": "code",
   "execution_count": 19,
   "metadata": {
    "collapsed": true
   },
   "outputs": [],
   "source": [
    "model.compile(loss='binary_crossentropy',\n",
    "              optimizer='rmsprop',\n",
    "              metrics=['accuracy'])"
   ]
  },
  {
   "cell_type": "code",
   "execution_count": 20,
   "metadata": {
    "collapsed": true
   },
   "outputs": [],
   "source": [
    "nb_epoch = 3\n",
    "nb_train_samples = 20"
   ]
  },
  {
   "cell_type": "code",
   "execution_count": 23,
   "metadata": {},
   "outputs": [
    {
     "name": "stdout",
     "output_type": "stream",
     "text": [
      "Epoch 1/5\n",
      "111/111 [==============================] - 16s 140ms/step - loss: 5.0546 - acc: 0.6847\n",
      "Epoch 2/5\n",
      "111/111 [==============================] - 14s 128ms/step - loss: 3.7548 - acc: 0.7658\n",
      "Epoch 3/5\n",
      "111/111 [==============================] - 13s 121ms/step - loss: 4.8995 - acc: 0.6937\n",
      "Epoch 4/5\n",
      "111/111 [==============================] - 14s 123ms/step - loss: 4.8291 - acc: 0.6937\n",
      "Epoch 5/5\n",
      "111/111 [==============================] - 13s 119ms/step - loss: 4.2131 - acc: 0.7297\n"
     ]
    },
    {
     "data": {
      "text/plain": [
       "<keras.callbacks.History at 0x12c7c54e0>"
      ]
     },
     "execution_count": 23,
     "metadata": {},
     "output_type": "execute_result"
    }
   ],
   "source": [
    "model.fit(Xtrain,Ytrain,epochs=5)"
   ]
  },
  {
   "cell_type": "code",
   "execution_count": 32,
   "metadata": {},
   "outputs": [
    {
     "data": {
      "text/plain": [
       "array([[0.000000e+00, 1.000000e+00],\n",
       "       [0.000000e+00, 1.000000e+00],\n",
       "       [0.000000e+00, 1.000000e+00],\n",
       "       [0.000000e+00, 1.000000e+00],\n",
       "       [0.000000e+00, 1.000000e+00],\n",
       "       [0.000000e+00, 1.000000e+00],\n",
       "       [0.000000e+00, 1.000000e+00],\n",
       "       [0.000000e+00, 1.000000e+00],\n",
       "       [6.749251e-30, 1.000000e+00],\n",
       "       [0.000000e+00, 1.000000e+00],\n",
       "       [1.000000e+00, 0.000000e+00],\n",
       "       [1.000000e+00, 0.000000e+00],\n",
       "       [1.000000e+00, 0.000000e+00],\n",
       "       [1.000000e+00, 0.000000e+00],\n",
       "       [1.000000e+00, 0.000000e+00],\n",
       "       [1.000000e+00, 0.000000e+00],\n",
       "       [1.000000e+00, 0.000000e+00],\n",
       "       [1.000000e+00, 0.000000e+00],\n",
       "       [1.000000e+00, 0.000000e+00],\n",
       "       [1.000000e+00, 0.000000e+00],\n",
       "       [1.000000e+00, 0.000000e+00],\n",
       "       [1.000000e+00, 0.000000e+00],\n",
       "       [1.000000e+00, 0.000000e+00],\n",
       "       [1.000000e+00, 0.000000e+00],\n",
       "       [1.000000e+00, 0.000000e+00],\n",
       "       [1.000000e+00, 0.000000e+00],\n",
       "       [1.000000e+00, 0.000000e+00],\n",
       "       [1.000000e+00, 0.000000e+00],\n",
       "       [1.000000e+00, 0.000000e+00],\n",
       "       [1.000000e+00, 0.000000e+00],\n",
       "       [1.000000e+00, 0.000000e+00],\n",
       "       [1.000000e+00, 0.000000e+00],\n",
       "       [1.000000e+00, 0.000000e+00],\n",
       "       [1.000000e+00, 0.000000e+00],\n",
       "       [1.000000e+00, 0.000000e+00],\n",
       "       [1.000000e+00, 0.000000e+00],\n",
       "       [1.000000e+00, 0.000000e+00],\n",
       "       [1.000000e+00, 0.000000e+00],\n",
       "       [1.000000e+00, 0.000000e+00],\n",
       "       [1.000000e+00, 0.000000e+00],\n",
       "       [1.000000e+00, 0.000000e+00],\n",
       "       [1.000000e+00, 0.000000e+00],\n",
       "       [1.000000e+00, 0.000000e+00],\n",
       "       [0.000000e+00, 1.000000e+00],\n",
       "       [1.000000e+00, 0.000000e+00],\n",
       "       [1.000000e+00, 0.000000e+00],\n",
       "       [1.000000e+00, 0.000000e+00],\n",
       "       [1.000000e+00, 0.000000e+00],\n",
       "       [1.000000e+00, 0.000000e+00],\n",
       "       [1.000000e+00, 0.000000e+00],\n",
       "       [1.000000e+00, 0.000000e+00],\n",
       "       [1.000000e+00, 0.000000e+00],\n",
       "       [1.000000e+00, 0.000000e+00],\n",
       "       [1.000000e+00, 0.000000e+00],\n",
       "       [1.000000e+00, 0.000000e+00],\n",
       "       [1.000000e+00, 0.000000e+00],\n",
       "       [1.000000e+00, 0.000000e+00],\n",
       "       [1.000000e+00, 0.000000e+00],\n",
       "       [1.000000e+00, 0.000000e+00],\n",
       "       [1.000000e+00, 0.000000e+00],\n",
       "       [1.000000e+00, 0.000000e+00],\n",
       "       [1.000000e+00, 0.000000e+00],\n",
       "       [1.000000e+00, 0.000000e+00],\n",
       "       [1.000000e+00, 0.000000e+00],\n",
       "       [1.000000e+00, 0.000000e+00],\n",
       "       [0.000000e+00, 1.000000e+00],\n",
       "       [1.000000e+00, 0.000000e+00],\n",
       "       [1.000000e+00, 0.000000e+00],\n",
       "       [1.000000e+00, 0.000000e+00],\n",
       "       [1.000000e+00, 0.000000e+00]], dtype=float32)"
      ]
     },
     "execution_count": 32,
     "metadata": {},
     "output_type": "execute_result"
    }
   ],
   "source": [
    "model.predict(Xtrain[30:100])"
   ]
  },
  {
   "cell_type": "code",
   "execution_count": null,
   "metadata": {
    "collapsed": true
   },
   "outputs": [],
   "source": [
    "np.expand_dims(np.expand_dims(X,axis=1),axis=1)"
   ]
  },
  {
   "cell_type": "code",
   "execution_count": 27,
   "metadata": {},
   "outputs": [
    {
     "data": {
      "text/plain": [
       "40"
      ]
     },
     "execution_count": 27,
     "metadata": {},
     "output_type": "execute_result"
    }
   ],
   "source": [
    "len(X_galaxies)"
   ]
  },
  {
   "cell_type": "code",
   "execution_count": null,
   "metadata": {
    "collapsed": true
   },
   "outputs": [],
   "source": [
    "model.summary()"
   ]
  },
  {
   "cell_type": "code",
   "execution_count": null,
   "metadata": {
    "collapsed": true
   },
   "outputs": [],
   "source": [
    "np.shape(Xtrain[0])"
   ]
  },
  {
   "cell_type": "code",
   "execution_count": null,
   "metadata": {
    "collapsed": true
   },
   "outputs": [],
   "source": [
    "Xtest = Xtrain[0].reshape(360,360,1).astype('float32')\n"
   ]
  },
  {
   "cell_type": "code",
   "execution_count": null,
   "metadata": {
    "collapsed": true
   },
   "outputs": [],
   "source": [
    "np.shape(Xtest)"
   ]
  },
  {
   "cell_type": "code",
   "execution_count": null,
   "metadata": {
    "collapsed": true
   },
   "outputs": [],
   "source": [
    "def load_model_weights(model, weights_path):\n",
    "    print 'Loading model.'\n",
    "    f = h5py.File(weights_path)\n",
    "    for k in range(f.attrs['nb_layers']):\n",
    "        if k >= len(model.layers):\n",
    "            # we don't look at the last (fully-connected) layers in the savefile\n",
    "            break\n",
    "        g = f['layer_{}'.format(k)]\n",
    "        weights = [g['param_{}'.format(p)] for p in range(g.attrs['nb_params'])]\n",
    "        model.layers[k].set_weights(weights)\n",
    "    f.close()\n",
    "    print 'Model loaded.'\n",
    "    return model"
   ]
  }
 ],
 "metadata": {
  "kernelspec": {
   "display_name": "Python 3",
   "language": "python",
   "name": "python3"
  },
  "language_info": {
   "codemirror_mode": {
    "name": "ipython",
    "version": 3
   },
   "file_extension": ".py",
   "mimetype": "text/x-python",
   "name": "python",
   "nbconvert_exporter": "python",
   "pygments_lexer": "ipython3",
   "version": "3.6.1"
  }
 },
 "nbformat": 4,
 "nbformat_minor": 2
}
